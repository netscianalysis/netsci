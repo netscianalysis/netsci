{
 "cells": [
  {
   "cell_type": "code",
   "execution_count": null,
   "id": "c8f21c54",
   "metadata": {},
   "outputs": [],
   "source": [
    "import os\n",
    "\n",
    "import numpy as np\n",
    "import plotly.graph_objects as go\n",
    "\n",
    "import cuarray\n",
    "import netchem\n",
    "import netcalc"
   ]
  },
  {
   "cell_type": "code",
   "execution_count": null,
   "id": "fd18e0b6",
   "metadata": {},
   "outputs": [],
   "source": [
    "tutorial_directory = netchem.data_files(\"pyro\")"
   ]
  },
  {
   "cell_type": "code",
   "execution_count": null,
   "id": "53809e70",
   "metadata": {},
   "outputs": [],
   "source": [
    "r = 0.9\n",
    "gaussian_2D_mean = np.zeros(2)\n",
    "gaussian_2D_cov = np.array([[1.0, r], [r, 1.0]])\n",
    "gaussian_2D_size = 10000"
   ]
  },
  {
   "cell_type": "code",
   "execution_count": null,
   "id": "1b236903",
   "metadata": {},
   "outputs": [],
   "source": [
    "gaussian_2D = np.random.multivariate_normal(\n",
    "    mean=gaussian_2D_mean,\n",
    "    cov=gaussian_2D_cov,\n",
    "    size=gaussian_2D_size,\n",
    ").T.astype(np.float32)"
   ]
  },
  {
   "cell_type": "code",
   "execution_count": null,
   "id": "4e08c17c",
   "metadata": {},
   "outputs": [],
   "source": [
    "gaussian_2D_figure = go.Figure(\n",
    "    data=go.Scatter(\n",
    "    x=gaussian_2D[0],\n",
    "    y=gaussian_2D[1],\n",
    "    mode='markers',\n",
    "    ))"
   ]
  },
  {
   "cell_type": "code",
   "execution_count": null,
   "id": "ec419a8b",
   "metadata": {},
   "outputs": [],
   "source": [
    "gaussian_2D_figure.show()"
   ]
  },
  {
   "cell_type": "code",
   "execution_count": null,
   "id": "daec04d0",
   "metadata": {},
   "outputs": [],
   "source": [
    "X = cuarray.FloatCuArray()\n",
    "X.fromNumpy2D(gaussian_2D)"
   ]
  },
  {
   "cell_type": "code",
   "execution_count": null,
   "id": "47120a85",
   "metadata": {},
   "outputs": [],
   "source": [
    "ab = cuarray.IntCuArray()"
   ]
  },
  {
   "cell_type": "code",
   "execution_count": null,
   "id": "2fc9e618",
   "metadata": {},
   "outputs": [],
   "source": [
    "ab.init(1, 2)\n",
    "ab[0][0] = 0\n",
    "ab[0][1] = 1"
   ]
  },
  {
   "cell_type": "code",
   "execution_count": null,
   "id": "349693e6",
   "metadata": {},
   "outputs": [],
   "source": [
    "I = cuarray.FloatCuArray()"
   ]
  },
  {
   "cell_type": "code",
   "execution_count": null,
   "id": "5fbcba47",
   "metadata": {},
   "outputs": [],
   "source": [
    "n = gaussian_2D_size\n",
    "k = 4\n",
    "xd = 2\n",
    "d = 1\n",
    "platform = netcalc.GPU_PLATFORM"
   ]
  },
  {
   "cell_type": "code",
   "execution_count": null,
   "id": "9df99eee",
   "metadata": {},
   "outputs": [],
   "source": [
    "netcalc.mutualInformation(\n",
    "    X=X,\n",
    "    I=I, \n",
    "    ab=ab,\n",
    "    k=k,\n",
    "    n=n,\n",
    "    xd=xd,\n",
    "    d=d,\n",
    "    platform=platform,\n",
    ")"
   ]
  },
  {
   "cell_type": "code",
   "execution_count": null,
   "id": "ba8b9e9b",
   "metadata": {},
   "outputs": [],
   "source": [
    "print(I)"
   ]
  },
  {
   "cell_type": "code",
   "execution_count": null,
   "id": "28875265",
   "metadata": {},
   "outputs": [],
   "source": [
    "analytic_I = -0.5*np.log(np.linalg.det(np.cov(gaussian_2D)))\n",
    "print(analytic_I)"
   ]
  },
  {
   "cell_type": "code",
   "execution_count": null,
   "id": "a58bf959",
   "metadata": {},
   "outputs": [],
   "source": [
    "pyro_network = netchem.Network()"
   ]
  },
  {
   "cell_type": "code",
   "execution_count": null,
   "id": "a5de0be3",
   "metadata": {},
   "outputs": [],
   "source": [
    "trajectory_file = str(tutorial_directory / \"pyro.dcd\")\n",
    "topology_file = str(tutorial_directory / \"pyro.pdb\")\n",
    "first_frame = 0\n",
    "last_frame = 999\n",
    "#stride=3\n",
    "pyro_network.init(\n",
    "    trajectoryFile=trajectory_file,\n",
    "    topologyFile=topology_file,\n",
    "    firstFrame=first_frame,\n",
    "    lastFrame=last_frame,\n",
    "    #stride=stride \n",
    ")\n",
    "\n"
   ]
  },
  {
   "cell_type": "code",
   "execution_count": null,
   "id": "277da362",
   "metadata": {},
   "outputs": [],
   "source": [
    "pyro_R = cuarray.FloatCuArray()\n",
    "pyro_ab = cuarray.IntCuArray()"
   ]
  },
  {
   "cell_type": "code",
   "execution_count": null,
   "id": "982c4efb",
   "metadata": {},
   "outputs": [],
   "source": [
    "pyro_num_nodes = pyro_network.numNodes()\n",
    "pyro_num_node_pairs = pyro_num_nodes**2\n",
    "pyro_ab.init(\n",
    "    pyro_num_node_pairs,\n",
    "    2,\n",
    ")\n",
    "for i in range(pyro_num_nodes):\n",
    "    for j in range(pyro_num_nodes):\n",
    "        pyro_node_pair_index = i*pyro_num_nodes + j\n",
    "        pyro_ab[pyro_node_pair_index][0] = i\n",
    "        pyro_ab[pyro_node_pair_index][1] = j"
   ]
  },
  {
   "cell_type": "code",
   "execution_count": null,
   "id": "c84fb662",
   "metadata": {},
   "outputs": [],
   "source": [
    "pyro_n = pyro_network.numFrames()\n",
    "pyro_d = 3\n",
    "pyro_xd = 2\n",
    "pyro_k = 4\n",
    "pyro_platform = 0"
   ]
  },
  {
   "cell_type": "code",
   "execution_count": null,
   "id": "cd8003fc-13aa-481b-834a-c78b6f6fd43d",
   "metadata": {},
   "outputs": [],
   "source": [
    "netcalc.generalizedCorrelation(\n",
    "    X=pyro_network.nodeCoordinates(),\n",
    "    R=pyro_R,\n",
    "    ab=pyro_ab,\n",
    "    k=pyro_k,\n",
    "    n=pyro_n,\n",
    "    d=pyro_d,\n",
    "    xd=pyro_xd,\n",
    "    platform=pyro_platform,\n",
    ")"
   ]
  },
  {
   "cell_type": "code",
   "execution_count": null,
   "id": "f6397353",
   "metadata": {},
   "outputs": [],
   "source": [
    "pyro_R_np = pyro_R.toNumpy2D().reshape(\n",
    "    pyro_num_nodes,\n",
    "    pyro_num_nodes,\n",
    ")"
   ]
  },
  {
   "cell_type": "code",
   "execution_count": null,
   "id": "bf3b0a82",
   "metadata": {},
   "outputs": [],
   "source": [
    "pyro_R_figure_x = [i for i in range(pyro_num_nodes)]\n",
    "pyro_R_figure_y = [i for i in range(pyro_num_nodes)]"
   ]
  },
  {
   "cell_type": "code",
   "execution_count": null,
   "id": "fb63a548",
   "metadata": {},
   "outputs": [],
   "source": [
    "pyro_R_figure = go.Figure(\n",
    "    data=go.Heatmap(\n",
    "        x=pyro_R_figure_x,\n",
    "        y=pyro_R_figure_y,\n",
    "        z=pyro_R_np,\n",
    "        colorscale='jet',\n",
    "        zsmooth='best',\n",
    "    ),\n",
    ")"
   ]
  },
  {
   "cell_type": "code",
   "execution_count": null,
   "id": "df36a97a",
   "metadata": {
    "scrolled": true
   },
   "outputs": [],
   "source": [
    "pyro_R_figure.show()"
   ]
  },
  {
   "cell_type": "code",
   "execution_count": null,
   "id": "97ba2a63-dd18-48fd-8dbf-b519894eb75c",
   "metadata": {},
   "outputs": [],
   "source": [
    "checkpoint_frequency = 10000\n",
    "checkpoint_file_name = str(tutorial_directory / \"pyro_R\")\n",
    "netcalc.generalizedCorrelationWithCheckpointing(\n",
    "    X=pyro_network.nodeCoordinates(),\n",
    "    R=pyro_R,\n",
    "    ab=pyro_ab,\n",
    "    k=pyro_k,\n",
    "    n=pyro_n,\n",
    "    d=pyro_d,\n",
    "    xd=pyro_xd,\n",
    "    platform=pyro_platform,\n",
    "    checkpointFrequency=checkpoint_frequency,\n",
    "    checkpointFileName=checkpoint_file_name\n",
    ")"
   ]
  },
  {
   "cell_type": "code",
   "execution_count": null,
   "id": "c27e874e-5d28-4e2b-9f0a-0d93ae03b38c",
   "metadata": {},
   "outputs": [],
   "source": [
    "list(tutorial_directory.glob(\"*\"))"
   ]
  },
  {
   "cell_type": "code",
   "execution_count": null,
   "id": "759a31ee-c04a-4a68-b835-ee9c823d7919",
   "metadata": {},
   "outputs": [],
   "source": [
    "restart_R_file_name = f\"{checkpoint_file_name}_80000.npy\"\n",
    "restart_ab_file_name = f\"{checkpoint_file_name}_ab.npy\"\n",
    "restart_pyro_R = cuarray.FloatCuArray()\n",
    "\n",
    "netcalc.generalizedCorrelationRestartWithCheckpointing(\n",
    "    X=pyro_network.nodeCoordinates(),\n",
    "    R=restart_pyro_R,\n",
    "    k=pyro_k,\n",
    "    n=pyro_n,\n",
    "    d=pyro_d,\n",
    "    xd=pyro_xd,\n",
    "    platform=pyro_platform,\n",
    "    checkpointFrequency=checkpoint_frequency,\n",
    "    checkpointFileName=checkpoint_file_name,\n",
    "    restartAbFileName=restart_ab_file_name,\n",
    "    restartRFileName=restart_R_file_name,\n",
    ")"
   ]
  },
  {
   "cell_type": "code",
   "execution_count": null,
   "id": "01da9bef-4103-4681-929e-2131f3ca8d7b",
   "metadata": {},
   "outputs": [],
   "source": [
    "restart_pyro_R_np = restart_pyro_R.toNumpy2D().reshape(\n",
    "    pyro_num_nodes,\n",
    "    pyro_num_nodes,\n",
    ")"
   ]
  },
  {
   "cell_type": "code",
   "execution_count": null,
   "id": "7ee91dd6-8b8b-49b8-9cd8-da2202a4ae0f",
   "metadata": {},
   "outputs": [],
   "source": [
    "sum(sum(restart_pyro_R_np == pyro_R_np))==pyro_num_nodes**2"
   ]
  },
  {
   "cell_type": "code",
   "execution_count": null,
   "id": "56e36463-8022-463f-8736-a3da528e0c7d",
   "metadata": {},
   "outputs": [],
   "source": [
    "restart_pyro_R_figure = go.Figure(\n",
    "    data=go.Heatmap(\n",
    "        x=pyro_R_figure_x,\n",
    "        y=pyro_R_figure_y,\n",
    "        z=restart_pyro_R_np,\n",
    "        colorscale='jet',\n",
    "        zsmooth='best',\n",
    "    ),\n",
    ")"
   ]
  },
  {
   "cell_type": "code",
   "execution_count": null,
   "id": "cd647cd4-24a9-4684-87dd-4b6afb4df612",
   "metadata": {},
   "outputs": [],
   "source": [
    "restart_pyro_R_figure.show()"
   ]
  },
  {
   "cell_type": "code",
   "execution_count": null,
   "id": "082a3863-e51e-4673-a65c-92cd21e174e6",
   "metadata": {},
   "outputs": [],
   "source": [
    "pyro_R_figure.show()"
   ]
  },
  {
   "cell_type": "code",
   "execution_count": null,
   "id": "39659a8b-e78b-4d95-890e-7ad190f13fef",
   "metadata": {},
   "outputs": [],
   "source": []
  }
 ],
 "metadata": {
  "kernelspec": {
   "display_name": "Python 3 (ipykernel)",
   "language": "python",
   "name": "python3"
  },
  "language_info": {
   "codemirror_mode": {
    "name": "ipython",
    "version": 3
   },
   "file_extension": ".py",
   "mimetype": "text/x-python",
   "name": "python",
   "nbconvert_exporter": "python",
   "pygments_lexer": "ipython3",
   "version": "3.10.12"
  }
 },
 "nbformat": 4,
 "nbformat_minor": 5
}
